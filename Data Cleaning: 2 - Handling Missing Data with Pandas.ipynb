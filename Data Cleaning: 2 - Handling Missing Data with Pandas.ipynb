{
  "cells": [
    {
      "cell_type": "markdown",
      "metadata": {
        "id": "VRIba83WoImR"
      },
      "source": [
        "![rmotr](https://i.imgur.com/jiPp4hj.png)\n",
        "<hr style=\"margin-bottom: 40px;\">\n",
        "\n",
        "<img src=\"https://user-images.githubusercontent.com/7065401/39117440-24199c72-46e7-11e8-8ffc-25c6e27e07d4.jpg\"\n",
        "    style=\"width:300px; float: right; margin: 0 40px 40px 40px;\"></img>\n",
        "\n",
        "# Handling Missing Data with Pandas\n",
        "\n",
        "pandas borrows all the capabilities from numpy selection + adds a number of convenient methods to handle missing values. Let's see one at a time:"
      ]
    },
    {
      "cell_type": "markdown",
      "metadata": {
        "id": "G0QC2ygcoImW"
      },
      "source": [
        "![separator2](https://i.imgur.com/4gX5WFr.png)\n",
        "\n",
        "## Hands on! "
      ]
    },
    {
      "cell_type": "code",
      "execution_count": 3,
      "metadata": {
        "id": "8PcrFJJZoImW"
      },
      "outputs": [],
      "source": [
        "import numpy as np\n",
        "import pandas as pd"
      ]
    },
    {
      "cell_type": "markdown",
      "metadata": {
        "id": "lG2W_plKoImY"
      },
      "source": [
        "### Pandas utility functions\n",
        "\n",
        "Similarly to `numpy`, pandas also has a few utility functions to identify and detect null values:"
      ]
    },
    {
      "cell_type": "code",
      "execution_count": 2,
      "metadata": {
        "id": "zjj9lU1UoImY",
        "outputId": "0fecd88c-1f47-430a-9193-1342306c37d8",
        "colab": {
          "base_uri": "https://localhost:8080/"
        }
      },
      "outputs": [
        {
          "output_type": "execute_result",
          "data": {
            "text/plain": [
              "True"
            ]
          },
          "metadata": {},
          "execution_count": 2
        }
      ],
      "source": [
        "pd.isnull(np.nan)"
      ]
    },
    {
      "cell_type": "code",
      "execution_count": null,
      "metadata": {
        "scrolled": true,
        "id": "IiGM0FrCoImZ",
        "outputId": "849ef525-323b-4bea-d079-e30bc82d854d"
      },
      "outputs": [
        {
          "data": {
            "text/plain": [
              "True"
            ]
          },
          "execution_count": 3,
          "metadata": {},
          "output_type": "execute_result"
        }
      ],
      "source": [
        "pd.isnull(None)"
      ]
    },
    {
      "cell_type": "code",
      "execution_count": null,
      "metadata": {
        "id": "_44w2LAdoIma",
        "outputId": "4753d19f-f33e-479e-a7d7-1e573eb80f51"
      },
      "outputs": [
        {
          "data": {
            "text/plain": [
              "True"
            ]
          },
          "execution_count": 4,
          "metadata": {},
          "output_type": "execute_result"
        }
      ],
      "source": [
        "pd.isna(np.nan)"
      ]
    },
    {
      "cell_type": "code",
      "execution_count": null,
      "metadata": {
        "scrolled": true,
        "id": "FxOKSjTCoImb",
        "outputId": "382617f9-172d-43b9-a543-18d9b70b6e55"
      },
      "outputs": [
        {
          "data": {
            "text/plain": [
              "True"
            ]
          },
          "execution_count": 5,
          "metadata": {},
          "output_type": "execute_result"
        }
      ],
      "source": [
        "pd.isna(None)"
      ]
    },
    {
      "cell_type": "markdown",
      "metadata": {
        "id": "OjCsHgR-oImb"
      },
      "source": [
        "The opposite ones also exist:"
      ]
    },
    {
      "cell_type": "code",
      "execution_count": null,
      "metadata": {
        "id": "C3jhthBCoImc",
        "outputId": "0b5768a0-4c80-439c-c710-33d6794bd7ba"
      },
      "outputs": [
        {
          "data": {
            "text/plain": [
              "False"
            ]
          },
          "execution_count": 6,
          "metadata": {},
          "output_type": "execute_result"
        }
      ],
      "source": [
        "pd.notnull(None)"
      ]
    },
    {
      "cell_type": "code",
      "execution_count": null,
      "metadata": {
        "id": "OJybdVzvoImd",
        "outputId": "4da92a5c-4e6a-4e27-d5a4-c34b3e5a8621"
      },
      "outputs": [
        {
          "data": {
            "text/plain": [
              "False"
            ]
          },
          "execution_count": 7,
          "metadata": {},
          "output_type": "execute_result"
        }
      ],
      "source": [
        "pd.notnull(np.nan)"
      ]
    },
    {
      "cell_type": "code",
      "execution_count": null,
      "metadata": {
        "id": "rdE7aBrvoImd",
        "outputId": "e7364783-7f68-4fde-aa50-8303e10202bd"
      },
      "outputs": [
        {
          "data": {
            "text/plain": [
              "False"
            ]
          },
          "execution_count": 9,
          "metadata": {},
          "output_type": "execute_result"
        }
      ],
      "source": [
        "pd.notna(np.nan)"
      ]
    },
    {
      "cell_type": "code",
      "execution_count": null,
      "metadata": {
        "id": "c7sHJnDCoIme",
        "outputId": "28cc43a6-8db7-46a9-c703-b1cda899f044"
      },
      "outputs": [
        {
          "data": {
            "text/plain": [
              "True"
            ]
          },
          "execution_count": 8,
          "metadata": {},
          "output_type": "execute_result"
        }
      ],
      "source": [
        "pd.notnull(3)"
      ]
    },
    {
      "cell_type": "markdown",
      "metadata": {
        "id": "C_WxcICJoIme"
      },
      "source": [
        "These functions also work with Series and `DataFrame`s:"
      ]
    },
    {
      "cell_type": "code",
      "execution_count": null,
      "metadata": {
        "scrolled": true,
        "id": "XYOYX17AoIme",
        "outputId": "5dcd09ef-9bc2-4c76-815d-b122f658c656"
      },
      "outputs": [
        {
          "data": {
            "text/plain": [
              "0    False\n",
              "1     True\n",
              "2    False\n",
              "dtype: bool"
            ]
          },
          "execution_count": 10,
          "metadata": {},
          "output_type": "execute_result"
        }
      ],
      "source": [
        "pd.isnull(pd.Series([1, np.nan, 7]))"
      ]
    },
    {
      "cell_type": "code",
      "execution_count": null,
      "metadata": {
        "scrolled": true,
        "id": "J7eeDDoIoImf",
        "outputId": "26002ff2-9319-4e3e-986d-8e060f478dba"
      },
      "outputs": [
        {
          "data": {
            "text/plain": [
              "0     True\n",
              "1    False\n",
              "2     True\n",
              "dtype: bool"
            ]
          },
          "execution_count": 11,
          "metadata": {},
          "output_type": "execute_result"
        }
      ],
      "source": [
        "pd.notnull(pd.Series([1, np.nan, 7]))"
      ]
    },
    {
      "cell_type": "code",
      "execution_count": null,
      "metadata": {
        "id": "lFG6WSZHoImf",
        "outputId": "e97700f8-4518-46da-d059-b55dd26b997d"
      },
      "outputs": [
        {
          "data": {
            "text/html": [
              "<div>\n",
              "<style scoped>\n",
              "    .dataframe tbody tr th:only-of-type {\n",
              "        vertical-align: middle;\n",
              "    }\n",
              "\n",
              "    .dataframe tbody tr th {\n",
              "        vertical-align: top;\n",
              "    }\n",
              "\n",
              "    .dataframe thead th {\n",
              "        text-align: right;\n",
              "    }\n",
              "</style>\n",
              "<table border=\"1\" class=\"dataframe\">\n",
              "  <thead>\n",
              "    <tr style=\"text-align: right;\">\n",
              "      <th></th>\n",
              "      <th>Column A</th>\n",
              "      <th>Column B</th>\n",
              "      <th>Column C</th>\n",
              "    </tr>\n",
              "  </thead>\n",
              "  <tbody>\n",
              "    <tr>\n",
              "      <th>0</th>\n",
              "      <td>False</td>\n",
              "      <td>True</td>\n",
              "      <td>True</td>\n",
              "    </tr>\n",
              "    <tr>\n",
              "      <th>1</th>\n",
              "      <td>True</td>\n",
              "      <td>False</td>\n",
              "      <td>False</td>\n",
              "    </tr>\n",
              "    <tr>\n",
              "      <th>2</th>\n",
              "      <td>False</td>\n",
              "      <td>False</td>\n",
              "      <td>True</td>\n",
              "    </tr>\n",
              "  </tbody>\n",
              "</table>\n",
              "</div>"
            ],
            "text/plain": [
              "   Column A  Column B  Column C\n",
              "0     False      True      True\n",
              "1      True     False     False\n",
              "2     False     False      True"
            ]
          },
          "execution_count": 12,
          "metadata": {},
          "output_type": "execute_result"
        }
      ],
      "source": [
        "pd.isnull(pd.DataFrame({\n",
        "    'Column A': [1, np.nan, 7],\n",
        "    'Column B': [np.nan, 2, 3],\n",
        "    'Column C': [np.nan, 2, np.nan]\n",
        "}))"
      ]
    },
    {
      "cell_type": "markdown",
      "metadata": {
        "id": "qq7_iq9ZoImg"
      },
      "source": [
        "![separator1](https://i.imgur.com/ZUWYTii.png)\n",
        "\n",
        "### Pandas Operations with Missing Values\n",
        "\n",
        "Pandas manages missing values more gracefully than numpy. `nan`s will no longer behave as \"viruses\", and operations will just ignore them completely:"
      ]
    },
    {
      "cell_type": "code",
      "execution_count": 3,
      "metadata": {
        "id": "Posl2VpyoImg",
        "outputId": "91f59d9a-51a2-4f5f-8591-3ff6b8f92ebf",
        "colab": {
          "base_uri": "https://localhost:8080/"
        }
      },
      "outputs": [
        {
          "output_type": "execute_result",
          "data": {
            "text/plain": [
              "2"
            ]
          },
          "metadata": {},
          "execution_count": 3
        }
      ],
      "source": [
        "pd.Series([1, 2, np.nan]).count()"
      ]
    },
    {
      "cell_type": "code",
      "execution_count": 4,
      "metadata": {
        "scrolled": true,
        "id": "Rdz9tbeIoImg",
        "outputId": "9b2e5c7a-62a9-40df-b0df-26971fc3365e",
        "colab": {
          "base_uri": "https://localhost:8080/"
        }
      },
      "outputs": [
        {
          "output_type": "execute_result",
          "data": {
            "text/plain": [
              "3.0"
            ]
          },
          "metadata": {},
          "execution_count": 4
        }
      ],
      "source": [
        "pd.Series([1, 2, np.nan]).sum()"
      ]
    },
    {
      "cell_type": "code",
      "execution_count": 5,
      "metadata": {
        "id": "iVWKyIb-oImg",
        "outputId": "dd11d600-7ed4-4828-c8dc-f859d45adf6e",
        "colab": {
          "base_uri": "https://localhost:8080/"
        }
      },
      "outputs": [
        {
          "output_type": "execute_result",
          "data": {
            "text/plain": [
              "2.0"
            ]
          },
          "metadata": {},
          "execution_count": 5
        }
      ],
      "source": [
        "pd.Series([2, 2, np.nan]).mean()"
      ]
    },
    {
      "cell_type": "markdown",
      "metadata": {
        "id": "qBVJvz-roImh"
      },
      "source": [
        "### Filtering missing data\n",
        "\n",
        "As we saw with numpy, we could combine boolean selection + `pd.isnull` to filter out those `nan`s and null values:"
      ]
    },
    {
      "cell_type": "code",
      "execution_count": 4,
      "metadata": {
        "id": "iyIG9NMloImh"
      },
      "outputs": [],
      "source": [
        "s = pd.Series([1, 2, 3, np.nan, np.nan, 4])"
      ]
    },
    {
      "cell_type": "code",
      "execution_count": null,
      "metadata": {
        "id": "HtJcN-BwoImh",
        "outputId": "03df49dd-2499-4847-db32-2ac7c72d40a7"
      },
      "outputs": [
        {
          "data": {
            "text/plain": [
              "0     True\n",
              "1     True\n",
              "2     True\n",
              "3    False\n",
              "4    False\n",
              "5     True\n",
              "dtype: bool"
            ]
          },
          "execution_count": 14,
          "metadata": {},
          "output_type": "execute_result"
        }
      ],
      "source": [
        "pd.notnull(s)"
      ]
    },
    {
      "cell_type": "code",
      "execution_count": null,
      "metadata": {
        "id": "UflsIkF9oImh",
        "outputId": "70c7291b-845d-4af0-f6e2-38bc0a0cecea"
      },
      "outputs": [
        {
          "data": {
            "text/plain": [
              "0    False\n",
              "1    False\n",
              "2    False\n",
              "3     True\n",
              "4     True\n",
              "5    False\n",
              "dtype: bool"
            ]
          },
          "execution_count": 18,
          "metadata": {},
          "output_type": "execute_result"
        }
      ],
      "source": [
        "pd.isnull(s)"
      ]
    },
    {
      "cell_type": "code",
      "execution_count": null,
      "metadata": {
        "id": "DsCfDi4_oImh",
        "outputId": "42c55549-613f-4e77-98d1-5ca168e2c699"
      },
      "outputs": [
        {
          "data": {
            "text/plain": [
              "4"
            ]
          },
          "execution_count": 16,
          "metadata": {},
          "output_type": "execute_result"
        }
      ],
      "source": [
        "pd.notnull(s).sum()"
      ]
    },
    {
      "cell_type": "code",
      "execution_count": null,
      "metadata": {
        "id": "fBR7ftFGoImi",
        "outputId": "64f4b5b0-696d-4b57-b091-504557428d61"
      },
      "outputs": [
        {
          "data": {
            "text/plain": [
              "2"
            ]
          },
          "execution_count": 17,
          "metadata": {},
          "output_type": "execute_result"
        }
      ],
      "source": [
        "pd.isnull(s).sum()"
      ]
    },
    {
      "cell_type": "code",
      "execution_count": null,
      "metadata": {
        "id": "Vo_yu-W7oImi",
        "outputId": "8be6daf3-bc78-4a71-df88-f5dfe963491b"
      },
      "outputs": [
        {
          "data": {
            "text/plain": [
              "0    1.0\n",
              "1    2.0\n",
              "2    3.0\n",
              "5    4.0\n",
              "dtype: float64"
            ]
          },
          "execution_count": 19,
          "metadata": {},
          "output_type": "execute_result"
        }
      ],
      "source": [
        "s[pd.notnull(s)]"
      ]
    },
    {
      "cell_type": "markdown",
      "metadata": {
        "id": "pyu9CoxkoImi"
      },
      "source": [
        "But both `notnull` and `isnull` are also methods of `Series` and `DataFrame`s, so we could use it that way:"
      ]
    },
    {
      "cell_type": "code",
      "execution_count": null,
      "metadata": {
        "id": "T8bZHE8QoImi",
        "outputId": "bf02970c-568c-495e-92f3-b8c624ea8a10"
      },
      "outputs": [
        {
          "data": {
            "text/plain": [
              "0    False\n",
              "1    False\n",
              "2    False\n",
              "3     True\n",
              "4     True\n",
              "5    False\n",
              "dtype: bool"
            ]
          },
          "execution_count": 20,
          "metadata": {},
          "output_type": "execute_result"
        }
      ],
      "source": [
        "s.isnull()"
      ]
    },
    {
      "cell_type": "code",
      "execution_count": null,
      "metadata": {
        "id": "6NSHLy1ZoImi",
        "outputId": "6eb480c5-a987-49c4-fae5-8d98a6345880"
      },
      "outputs": [
        {
          "data": {
            "text/plain": [
              "0     True\n",
              "1     True\n",
              "2     True\n",
              "3    False\n",
              "4    False\n",
              "5     True\n",
              "dtype: bool"
            ]
          },
          "execution_count": 21,
          "metadata": {},
          "output_type": "execute_result"
        }
      ],
      "source": [
        "s.notnull()"
      ]
    },
    {
      "cell_type": "code",
      "execution_count": null,
      "metadata": {
        "id": "BUmktuJcoImj",
        "outputId": "8dbee736-4e78-435e-d6b3-eec20ef4c4ad"
      },
      "outputs": [
        {
          "data": {
            "text/plain": [
              "0    1.0\n",
              "1    2.0\n",
              "2    3.0\n",
              "5    4.0\n",
              "dtype: float64"
            ]
          },
          "execution_count": 22,
          "metadata": {},
          "output_type": "execute_result"
        }
      ],
      "source": [
        "s[s.notnull()]"
      ]
    },
    {
      "cell_type": "markdown",
      "metadata": {
        "id": "x0gNXqe2oImj"
      },
      "source": [
        "![separator1](https://i.imgur.com/ZUWYTii.png)\n",
        "\n",
        "### Dropping null values"
      ]
    },
    {
      "cell_type": "markdown",
      "metadata": {
        "id": "NeP5bTpMoImj"
      },
      "source": [
        "Boolean selection + `notnull()` seems a little bit verbose and repetitive. And as we said before: any repetitive task will probably have a better, more DRY way. In this case, we can use the `dropna` method:"
      ]
    },
    {
      "cell_type": "code",
      "execution_count": null,
      "metadata": {
        "id": "tgwgsi5FoImj",
        "outputId": "294df1da-8cdf-43eb-ae31-ba9352463061"
      },
      "outputs": [
        {
          "data": {
            "text/plain": [
              "0    1.0\n",
              "1    2.0\n",
              "2    3.0\n",
              "3    NaN\n",
              "4    NaN\n",
              "5    4.0\n",
              "dtype: float64"
            ]
          },
          "execution_count": 24,
          "metadata": {},
          "output_type": "execute_result"
        }
      ],
      "source": [
        "s"
      ]
    },
    {
      "cell_type": "code",
      "execution_count": null,
      "metadata": {
        "id": "51SzXTDLoImj",
        "outputId": "60e5e1b4-36ba-4997-a667-d81bc469b25d"
      },
      "outputs": [
        {
          "data": {
            "text/plain": [
              "0    1.0\n",
              "1    2.0\n",
              "2    3.0\n",
              "5    4.0\n",
              "dtype: float64"
            ]
          },
          "execution_count": 25,
          "metadata": {},
          "output_type": "execute_result"
        }
      ],
      "source": [
        "s.dropna()"
      ]
    },
    {
      "cell_type": "markdown",
      "metadata": {
        "id": "VovmN06toImk"
      },
      "source": [
        "### Dropping null values on DataFrames\n",
        "\n",
        "You saw how simple it is to drop `na`s with a Series. But with `DataFrame`s, there will be a few more things to consider, because you can't drop single values. You can only drop entire columns or rows. Let's start with a sample `DataFrame`:"
      ]
    },
    {
      "cell_type": "code",
      "execution_count": null,
      "metadata": {
        "id": "DVCdbpL0oImk"
      },
      "outputs": [],
      "source": [
        "df = pd.DataFrame({\n",
        "    'Column A': [1, np.nan, 30, np.nan],\n",
        "    'Column B': [2, 8, 31, np.nan],\n",
        "    'Column C': [np.nan, 9, 32, 100],\n",
        "    'Column D': [5, 8, 34, 110],\n",
        "})"
      ]
    },
    {
      "cell_type": "code",
      "execution_count": null,
      "metadata": {
        "scrolled": true,
        "id": "-tkPT5A6oImk",
        "outputId": "77b93656-2122-4540-8f61-33f64c8513ad"
      },
      "outputs": [
        {
          "data": {
            "text/html": [
              "<div>\n",
              "<style scoped>\n",
              "    .dataframe tbody tr th:only-of-type {\n",
              "        vertical-align: middle;\n",
              "    }\n",
              "\n",
              "    .dataframe tbody tr th {\n",
              "        vertical-align: top;\n",
              "    }\n",
              "\n",
              "    .dataframe thead th {\n",
              "        text-align: right;\n",
              "    }\n",
              "</style>\n",
              "<table border=\"1\" class=\"dataframe\">\n",
              "  <thead>\n",
              "    <tr style=\"text-align: right;\">\n",
              "      <th></th>\n",
              "      <th>Column A</th>\n",
              "      <th>Column B</th>\n",
              "      <th>Column C</th>\n",
              "      <th>Column D</th>\n",
              "    </tr>\n",
              "  </thead>\n",
              "  <tbody>\n",
              "    <tr>\n",
              "      <th>0</th>\n",
              "      <td>1.0</td>\n",
              "      <td>2.0</td>\n",
              "      <td>NaN</td>\n",
              "      <td>5</td>\n",
              "    </tr>\n",
              "    <tr>\n",
              "      <th>1</th>\n",
              "      <td>NaN</td>\n",
              "      <td>8.0</td>\n",
              "      <td>9.0</td>\n",
              "      <td>8</td>\n",
              "    </tr>\n",
              "    <tr>\n",
              "      <th>2</th>\n",
              "      <td>30.0</td>\n",
              "      <td>31.0</td>\n",
              "      <td>32.0</td>\n",
              "      <td>34</td>\n",
              "    </tr>\n",
              "    <tr>\n",
              "      <th>3</th>\n",
              "      <td>NaN</td>\n",
              "      <td>NaN</td>\n",
              "      <td>100.0</td>\n",
              "      <td>110</td>\n",
              "    </tr>\n",
              "  </tbody>\n",
              "</table>\n",
              "</div>"
            ],
            "text/plain": [
              "   Column A  Column B  Column C  Column D\n",
              "0       1.0       2.0       NaN         5\n",
              "1       NaN       8.0       9.0         8\n",
              "2      30.0      31.0      32.0        34\n",
              "3       NaN       NaN     100.0       110"
            ]
          },
          "execution_count": 27,
          "metadata": {},
          "output_type": "execute_result"
        }
      ],
      "source": [
        "df"
      ]
    },
    {
      "cell_type": "code",
      "execution_count": null,
      "metadata": {
        "id": "Ssd3DRcboImk",
        "outputId": "a2a491ad-71b7-4106-c9a2-3f05be4fce4a"
      },
      "outputs": [
        {
          "data": {
            "text/plain": [
              "(4, 4)"
            ]
          },
          "execution_count": 31,
          "metadata": {},
          "output_type": "execute_result"
        }
      ],
      "source": [
        "df.shape"
      ]
    },
    {
      "cell_type": "code",
      "execution_count": null,
      "metadata": {
        "id": "krp2Rd8BoImk",
        "outputId": "69f88a0e-7dc4-4966-98c2-cb94a4ab0d0b"
      },
      "outputs": [
        {
          "name": "stdout",
          "output_type": "stream",
          "text": [
            "<class 'pandas.core.frame.DataFrame'>\n",
            "RangeIndex: 4 entries, 0 to 3\n",
            "Data columns (total 4 columns):\n",
            " #   Column    Non-Null Count  Dtype  \n",
            "---  ------    --------------  -----  \n",
            " 0   Column A  2 non-null      float64\n",
            " 1   Column B  3 non-null      float64\n",
            " 2   Column C  3 non-null      float64\n",
            " 3   Column D  4 non-null      int64  \n",
            "dtypes: float64(3), int64(1)\n",
            "memory usage: 256.0 bytes\n"
          ]
        }
      ],
      "source": [
        "df.info()"
      ]
    },
    {
      "cell_type": "code",
      "execution_count": null,
      "metadata": {
        "id": "RIvpfBWRoIml",
        "outputId": "335b03c0-99ba-4a3c-e809-43dba700aad7"
      },
      "outputs": [
        {
          "data": {
            "text/html": [
              "<div>\n",
              "<style scoped>\n",
              "    .dataframe tbody tr th:only-of-type {\n",
              "        vertical-align: middle;\n",
              "    }\n",
              "\n",
              "    .dataframe tbody tr th {\n",
              "        vertical-align: top;\n",
              "    }\n",
              "\n",
              "    .dataframe thead th {\n",
              "        text-align: right;\n",
              "    }\n",
              "</style>\n",
              "<table border=\"1\" class=\"dataframe\">\n",
              "  <thead>\n",
              "    <tr style=\"text-align: right;\">\n",
              "      <th></th>\n",
              "      <th>Column A</th>\n",
              "      <th>Column B</th>\n",
              "      <th>Column C</th>\n",
              "      <th>Column D</th>\n",
              "    </tr>\n",
              "  </thead>\n",
              "  <tbody>\n",
              "    <tr>\n",
              "      <th>0</th>\n",
              "      <td>False</td>\n",
              "      <td>False</td>\n",
              "      <td>True</td>\n",
              "      <td>False</td>\n",
              "    </tr>\n",
              "    <tr>\n",
              "      <th>1</th>\n",
              "      <td>True</td>\n",
              "      <td>False</td>\n",
              "      <td>False</td>\n",
              "      <td>False</td>\n",
              "    </tr>\n",
              "    <tr>\n",
              "      <th>2</th>\n",
              "      <td>False</td>\n",
              "      <td>False</td>\n",
              "      <td>False</td>\n",
              "      <td>False</td>\n",
              "    </tr>\n",
              "    <tr>\n",
              "      <th>3</th>\n",
              "      <td>True</td>\n",
              "      <td>True</td>\n",
              "      <td>False</td>\n",
              "      <td>False</td>\n",
              "    </tr>\n",
              "  </tbody>\n",
              "</table>\n",
              "</div>"
            ],
            "text/plain": [
              "   Column A  Column B  Column C  Column D\n",
              "0     False     False      True     False\n",
              "1      True     False     False     False\n",
              "2     False     False     False     False\n",
              "3      True      True     False     False"
            ]
          },
          "execution_count": 28,
          "metadata": {},
          "output_type": "execute_result"
        }
      ],
      "source": [
        "df.isnull()"
      ]
    },
    {
      "cell_type": "code",
      "execution_count": null,
      "metadata": {
        "id": "9MFOTUKloIml",
        "outputId": "ae1bd6c3-a42f-40e3-8607-b3c86ccfb32a"
      },
      "outputs": [
        {
          "data": {
            "text/plain": [
              "Column A    2\n",
              "Column B    1\n",
              "Column C    1\n",
              "Column D    0\n",
              "dtype: int64"
            ]
          },
          "execution_count": 29,
          "metadata": {},
          "output_type": "execute_result"
        }
      ],
      "source": [
        "df.isnull().sum()"
      ]
    },
    {
      "cell_type": "markdown",
      "metadata": {
        "id": "mhCrumL8oIml"
      },
      "source": [
        "The default `dropna` behavior will drop all the rows in which _any_ null value is present:"
      ]
    },
    {
      "cell_type": "code",
      "execution_count": null,
      "metadata": {
        "id": "Z0Skj79DoIml",
        "outputId": "45d045f5-ef95-4290-94f9-70e5177dda79"
      },
      "outputs": [
        {
          "data": {
            "text/html": [
              "<div>\n",
              "<style scoped>\n",
              "    .dataframe tbody tr th:only-of-type {\n",
              "        vertical-align: middle;\n",
              "    }\n",
              "\n",
              "    .dataframe tbody tr th {\n",
              "        vertical-align: top;\n",
              "    }\n",
              "\n",
              "    .dataframe thead th {\n",
              "        text-align: right;\n",
              "    }\n",
              "</style>\n",
              "<table border=\"1\" class=\"dataframe\">\n",
              "  <thead>\n",
              "    <tr style=\"text-align: right;\">\n",
              "      <th></th>\n",
              "      <th>Column A</th>\n",
              "      <th>Column B</th>\n",
              "      <th>Column C</th>\n",
              "      <th>Column D</th>\n",
              "    </tr>\n",
              "  </thead>\n",
              "  <tbody>\n",
              "    <tr>\n",
              "      <th>2</th>\n",
              "      <td>30.0</td>\n",
              "      <td>31.0</td>\n",
              "      <td>32.0</td>\n",
              "      <td>34</td>\n",
              "    </tr>\n",
              "  </tbody>\n",
              "</table>\n",
              "</div>"
            ],
            "text/plain": [
              "   Column A  Column B  Column C  Column D\n",
              "2      30.0      31.0      32.0        34"
            ]
          },
          "execution_count": 32,
          "metadata": {},
          "output_type": "execute_result"
        }
      ],
      "source": [
        "df.dropna()"
      ]
    },
    {
      "cell_type": "markdown",
      "metadata": {
        "id": "OGVqhMCQoIml"
      },
      "source": [
        "In this case we're dropping **rows**. Rows containing null values are dropped from the DF. You can also use the `axis` parameter to drop columns containing null values:"
      ]
    },
    {
      "cell_type": "code",
      "execution_count": null,
      "metadata": {
        "id": "0N0YMFGboIml",
        "outputId": "7399a9c2-f9a1-486a-db0f-956d5e97b524"
      },
      "outputs": [
        {
          "data": {
            "text/html": [
              "<div>\n",
              "<style scoped>\n",
              "    .dataframe tbody tr th:only-of-type {\n",
              "        vertical-align: middle;\n",
              "    }\n",
              "\n",
              "    .dataframe tbody tr th {\n",
              "        vertical-align: top;\n",
              "    }\n",
              "\n",
              "    .dataframe thead th {\n",
              "        text-align: right;\n",
              "    }\n",
              "</style>\n",
              "<table border=\"1\" class=\"dataframe\">\n",
              "  <thead>\n",
              "    <tr style=\"text-align: right;\">\n",
              "      <th></th>\n",
              "      <th>Column D</th>\n",
              "    </tr>\n",
              "  </thead>\n",
              "  <tbody>\n",
              "    <tr>\n",
              "      <th>0</th>\n",
              "      <td>5</td>\n",
              "    </tr>\n",
              "    <tr>\n",
              "      <th>1</th>\n",
              "      <td>8</td>\n",
              "    </tr>\n",
              "    <tr>\n",
              "      <th>2</th>\n",
              "      <td>34</td>\n",
              "    </tr>\n",
              "    <tr>\n",
              "      <th>3</th>\n",
              "      <td>110</td>\n",
              "    </tr>\n",
              "  </tbody>\n",
              "</table>\n",
              "</div>"
            ],
            "text/plain": [
              "   Column D\n",
              "0         5\n",
              "1         8\n",
              "2        34\n",
              "3       110"
            ]
          },
          "execution_count": 33,
          "metadata": {},
          "output_type": "execute_result"
        }
      ],
      "source": [
        "df.dropna(axis=1)  # axis='columns' also works"
      ]
    },
    {
      "cell_type": "markdown",
      "metadata": {
        "id": "gikcaDnRoIml"
      },
      "source": [
        "In this case, any row or column that contains **at least** one null value will be dropped. Which can be, depending on the case, too extreme. You can control this behavior with the `how` parameter. Can be either `'any'` or `'all'`:"
      ]
    },
    {
      "cell_type": "code",
      "execution_count": null,
      "metadata": {
        "id": "7mMw5dhjoImm"
      },
      "outputs": [],
      "source": [
        "df2 = pd.DataFrame({\n",
        "    'Column A': [1, np.nan, 30],\n",
        "    'Column B': [2, np.nan, 31],\n",
        "    'Column C': [np.nan, np.nan, 100]\n",
        "})"
      ]
    },
    {
      "cell_type": "code",
      "execution_count": null,
      "metadata": {
        "id": "Qzqz_XduoImm"
      },
      "outputs": [],
      "source": [
        "df2"
      ]
    },
    {
      "cell_type": "code",
      "execution_count": null,
      "metadata": {
        "id": "sqhopUV1oImm",
        "outputId": "ce1f101b-f434-4356-fbb0-1dce62a18719"
      },
      "outputs": [
        {
          "data": {
            "text/html": [
              "<div>\n",
              "<style scoped>\n",
              "    .dataframe tbody tr th:only-of-type {\n",
              "        vertical-align: middle;\n",
              "    }\n",
              "\n",
              "    .dataframe tbody tr th {\n",
              "        vertical-align: top;\n",
              "    }\n",
              "\n",
              "    .dataframe thead th {\n",
              "        text-align: right;\n",
              "    }\n",
              "</style>\n",
              "<table border=\"1\" class=\"dataframe\">\n",
              "  <thead>\n",
              "    <tr style=\"text-align: right;\">\n",
              "      <th></th>\n",
              "      <th>Column A</th>\n",
              "      <th>Column B</th>\n",
              "      <th>Column C</th>\n",
              "      <th>Column D</th>\n",
              "    </tr>\n",
              "  </thead>\n",
              "  <tbody>\n",
              "    <tr>\n",
              "      <th>0</th>\n",
              "      <td>1.0</td>\n",
              "      <td>2.0</td>\n",
              "      <td>NaN</td>\n",
              "      <td>5</td>\n",
              "    </tr>\n",
              "    <tr>\n",
              "      <th>1</th>\n",
              "      <td>NaN</td>\n",
              "      <td>8.0</td>\n",
              "      <td>9.0</td>\n",
              "      <td>8</td>\n",
              "    </tr>\n",
              "    <tr>\n",
              "      <th>2</th>\n",
              "      <td>30.0</td>\n",
              "      <td>31.0</td>\n",
              "      <td>32.0</td>\n",
              "      <td>34</td>\n",
              "    </tr>\n",
              "    <tr>\n",
              "      <th>3</th>\n",
              "      <td>NaN</td>\n",
              "      <td>NaN</td>\n",
              "      <td>100.0</td>\n",
              "      <td>110</td>\n",
              "    </tr>\n",
              "  </tbody>\n",
              "</table>\n",
              "</div>"
            ],
            "text/plain": [
              "   Column A  Column B  Column C  Column D\n",
              "0       1.0       2.0       NaN         5\n",
              "1       NaN       8.0       9.0         8\n",
              "2      30.0      31.0      32.0        34\n",
              "3       NaN       NaN     100.0       110"
            ]
          },
          "execution_count": 34,
          "metadata": {},
          "output_type": "execute_result"
        }
      ],
      "source": [
        "df.dropna(how='all')"
      ]
    },
    {
      "cell_type": "code",
      "execution_count": null,
      "metadata": {
        "scrolled": true,
        "id": "M-_fPnSBoImm",
        "outputId": "6b0552e3-3843-4128-8da0-f829f6903f35"
      },
      "outputs": [
        {
          "data": {
            "text/html": [
              "<div>\n",
              "<style scoped>\n",
              "    .dataframe tbody tr th:only-of-type {\n",
              "        vertical-align: middle;\n",
              "    }\n",
              "\n",
              "    .dataframe tbody tr th {\n",
              "        vertical-align: top;\n",
              "    }\n",
              "\n",
              "    .dataframe thead th {\n",
              "        text-align: right;\n",
              "    }\n",
              "</style>\n",
              "<table border=\"1\" class=\"dataframe\">\n",
              "  <thead>\n",
              "    <tr style=\"text-align: right;\">\n",
              "      <th></th>\n",
              "      <th>Column A</th>\n",
              "      <th>Column B</th>\n",
              "      <th>Column C</th>\n",
              "      <th>Column D</th>\n",
              "    </tr>\n",
              "  </thead>\n",
              "  <tbody>\n",
              "    <tr>\n",
              "      <th>2</th>\n",
              "      <td>30.0</td>\n",
              "      <td>31.0</td>\n",
              "      <td>32.0</td>\n",
              "      <td>34</td>\n",
              "    </tr>\n",
              "  </tbody>\n",
              "</table>\n",
              "</div>"
            ],
            "text/plain": [
              "   Column A  Column B  Column C  Column D\n",
              "2      30.0      31.0      32.0        34"
            ]
          },
          "execution_count": 35,
          "metadata": {},
          "output_type": "execute_result"
        }
      ],
      "source": [
        "df.dropna(how='any')  # default behavior"
      ]
    },
    {
      "cell_type": "markdown",
      "metadata": {
        "id": "MpoBsWLtoImm"
      },
      "source": [
        "You can also use the `thresh` parameter to indicate a _threshold_ (a minimum number) of non-null values for the row/column to be kept:"
      ]
    },
    {
      "cell_type": "code",
      "execution_count": null,
      "metadata": {
        "id": "gqnFtgXEoImm"
      },
      "outputs": [],
      "source": [
        "df"
      ]
    },
    {
      "cell_type": "code",
      "execution_count": null,
      "metadata": {
        "id": "bh0By0EroImn",
        "outputId": "8d43d341-da58-4141-89a5-6e1bb8aaf5f1"
      },
      "outputs": [
        {
          "data": {
            "text/html": [
              "<div>\n",
              "<style scoped>\n",
              "    .dataframe tbody tr th:only-of-type {\n",
              "        vertical-align: middle;\n",
              "    }\n",
              "\n",
              "    .dataframe tbody tr th {\n",
              "        vertical-align: top;\n",
              "    }\n",
              "\n",
              "    .dataframe thead th {\n",
              "        text-align: right;\n",
              "    }\n",
              "</style>\n",
              "<table border=\"1\" class=\"dataframe\">\n",
              "  <thead>\n",
              "    <tr style=\"text-align: right;\">\n",
              "      <th></th>\n",
              "      <th>Column A</th>\n",
              "      <th>Column B</th>\n",
              "      <th>Column C</th>\n",
              "      <th>Column D</th>\n",
              "    </tr>\n",
              "  </thead>\n",
              "  <tbody>\n",
              "    <tr>\n",
              "      <th>0</th>\n",
              "      <td>1.0</td>\n",
              "      <td>2.0</td>\n",
              "      <td>NaN</td>\n",
              "      <td>5</td>\n",
              "    </tr>\n",
              "    <tr>\n",
              "      <th>1</th>\n",
              "      <td>NaN</td>\n",
              "      <td>8.0</td>\n",
              "      <td>9.0</td>\n",
              "      <td>8</td>\n",
              "    </tr>\n",
              "    <tr>\n",
              "      <th>2</th>\n",
              "      <td>30.0</td>\n",
              "      <td>31.0</td>\n",
              "      <td>32.0</td>\n",
              "      <td>34</td>\n",
              "    </tr>\n",
              "  </tbody>\n",
              "</table>\n",
              "</div>"
            ],
            "text/plain": [
              "   Column A  Column B  Column C  Column D\n",
              "0       1.0       2.0       NaN         5\n",
              "1       NaN       8.0       9.0         8\n",
              "2      30.0      31.0      32.0        34"
            ]
          },
          "execution_count": 36,
          "metadata": {},
          "output_type": "execute_result"
        }
      ],
      "source": [
        "df.dropna(thresh=3)"
      ]
    },
    {
      "cell_type": "code",
      "execution_count": null,
      "metadata": {
        "scrolled": true,
        "id": "C1WMrqC9oImn",
        "outputId": "6991650e-5c3f-4414-9189-becfbc9e3a57"
      },
      "outputs": [
        {
          "data": {
            "text/html": [
              "<div>\n",
              "<style scoped>\n",
              "    .dataframe tbody tr th:only-of-type {\n",
              "        vertical-align: middle;\n",
              "    }\n",
              "\n",
              "    .dataframe tbody tr th {\n",
              "        vertical-align: top;\n",
              "    }\n",
              "\n",
              "    .dataframe thead th {\n",
              "        text-align: right;\n",
              "    }\n",
              "</style>\n",
              "<table border=\"1\" class=\"dataframe\">\n",
              "  <thead>\n",
              "    <tr style=\"text-align: right;\">\n",
              "      <th></th>\n",
              "      <th>Column B</th>\n",
              "      <th>Column C</th>\n",
              "      <th>Column D</th>\n",
              "    </tr>\n",
              "  </thead>\n",
              "  <tbody>\n",
              "    <tr>\n",
              "      <th>0</th>\n",
              "      <td>2.0</td>\n",
              "      <td>NaN</td>\n",
              "      <td>5</td>\n",
              "    </tr>\n",
              "    <tr>\n",
              "      <th>1</th>\n",
              "      <td>8.0</td>\n",
              "      <td>9.0</td>\n",
              "      <td>8</td>\n",
              "    </tr>\n",
              "    <tr>\n",
              "      <th>2</th>\n",
              "      <td>31.0</td>\n",
              "      <td>32.0</td>\n",
              "      <td>34</td>\n",
              "    </tr>\n",
              "    <tr>\n",
              "      <th>3</th>\n",
              "      <td>NaN</td>\n",
              "      <td>100.0</td>\n",
              "      <td>110</td>\n",
              "    </tr>\n",
              "  </tbody>\n",
              "</table>\n",
              "</div>"
            ],
            "text/plain": [
              "   Column B  Column C  Column D\n",
              "0       2.0       NaN         5\n",
              "1       8.0       9.0         8\n",
              "2      31.0      32.0        34\n",
              "3       NaN     100.0       110"
            ]
          },
          "execution_count": 37,
          "metadata": {},
          "output_type": "execute_result"
        }
      ],
      "source": [
        "df.dropna(thresh=3, axis='columns')"
      ]
    },
    {
      "cell_type": "markdown",
      "metadata": {
        "id": "Q1h_xqZ6oImn"
      },
      "source": [
        "![separator1](https://i.imgur.com/ZUWYTii.png)\n",
        "\n",
        "### Filling null values\n",
        "\n",
        "Sometimes instead than dropping the null values, we might need to replace them with some other value. This highly depends on your context and the dataset you're currently working. Sometimes a `nan` can be replaced with a `0`, sometimes it can be replaced with the `mean` of the sample, and some other times you can take the closest value. Again, it depends on the context. We'll show you the different methods and mechanisms and you can then apply them to your own problem."
      ]
    },
    {
      "cell_type": "code",
      "execution_count": null,
      "metadata": {
        "scrolled": true,
        "id": "jaElMZ1XoImn",
        "outputId": "052e4cf2-ed1b-4ef7-89d9-212e25f64067"
      },
      "outputs": [
        {
          "data": {
            "text/plain": [
              "0    1.0\n",
              "1    2.0\n",
              "2    3.0\n",
              "3    NaN\n",
              "4    NaN\n",
              "5    4.0\n",
              "dtype: float64"
            ]
          },
          "execution_count": 38,
          "metadata": {},
          "output_type": "execute_result"
        }
      ],
      "source": [
        "s"
      ]
    },
    {
      "cell_type": "markdown",
      "metadata": {
        "id": "4PclMLDHoImn"
      },
      "source": [
        "**Filling nulls with a arbitrary value**"
      ]
    },
    {
      "cell_type": "code",
      "execution_count": null,
      "metadata": {
        "id": "V38kh8CwoImn",
        "outputId": "f7a80bc3-7d46-4d61-d0a7-26436f0988a1"
      },
      "outputs": [
        {
          "data": {
            "text/plain": [
              "0    1.0\n",
              "1    2.0\n",
              "2    3.0\n",
              "3    0.0\n",
              "4    0.0\n",
              "5    4.0\n",
              "dtype: float64"
            ]
          },
          "execution_count": 39,
          "metadata": {},
          "output_type": "execute_result"
        }
      ],
      "source": [
        "s.fillna(0)"
      ]
    },
    {
      "cell_type": "code",
      "execution_count": null,
      "metadata": {
        "id": "a5ROwCsCoImo",
        "outputId": "b831bb0f-6210-4399-9bbe-351ff59904fd"
      },
      "outputs": [
        {
          "data": {
            "text/plain": [
              "0    1.0\n",
              "1    2.0\n",
              "2    3.0\n",
              "3    2.5\n",
              "4    2.5\n",
              "5    4.0\n",
              "dtype: float64"
            ]
          },
          "execution_count": 40,
          "metadata": {},
          "output_type": "execute_result"
        }
      ],
      "source": [
        "s.fillna(s.mean())"
      ]
    },
    {
      "cell_type": "code",
      "execution_count": null,
      "metadata": {
        "id": "bb6BRTvioImo",
        "outputId": "50cac4b3-7bdf-48be-cded-b10808cb3121"
      },
      "outputs": [
        {
          "data": {
            "text/plain": [
              "0    1.0\n",
              "1    2.0\n",
              "2    3.0\n",
              "3    NaN\n",
              "4    NaN\n",
              "5    4.0\n",
              "dtype: float64"
            ]
          },
          "execution_count": 41,
          "metadata": {},
          "output_type": "execute_result"
        }
      ],
      "source": [
        "s"
      ]
    },
    {
      "cell_type": "markdown",
      "metadata": {
        "id": "iwEEZZraoImo"
      },
      "source": [
        "**Filling nulls with contiguous (close) values**\n",
        "\n",
        "The `method` argument is used to fill null values with other values close to that null one:"
      ]
    },
    {
      "cell_type": "code",
      "execution_count": null,
      "metadata": {
        "scrolled": true,
        "id": "xt8eM0vDoImo",
        "outputId": "dea959a0-6efe-41ac-c953-6a92846a0ef3"
      },
      "outputs": [
        {
          "data": {
            "text/plain": [
              "0    1.0\n",
              "1    2.0\n",
              "2    3.0\n",
              "3    3.0\n",
              "4    3.0\n",
              "5    4.0\n",
              "dtype: float64"
            ]
          },
          "execution_count": 42,
          "metadata": {},
          "output_type": "execute_result"
        }
      ],
      "source": [
        "s.fillna(method='ffill')"
      ]
    },
    {
      "cell_type": "code",
      "execution_count": null,
      "metadata": {
        "scrolled": true,
        "id": "WPW8zzpEoImo",
        "outputId": "74d7ff5c-ed03-4a58-f884-aab155f535a7"
      },
      "outputs": [
        {
          "data": {
            "text/plain": [
              "0    1.0\n",
              "1    2.0\n",
              "2    3.0\n",
              "3    4.0\n",
              "4    4.0\n",
              "5    4.0\n",
              "dtype: float64"
            ]
          },
          "execution_count": 43,
          "metadata": {},
          "output_type": "execute_result"
        }
      ],
      "source": [
        "s.fillna(method='bfill')"
      ]
    },
    {
      "cell_type": "markdown",
      "metadata": {
        "id": "jLzOgN7loImp"
      },
      "source": [
        "This can still leave null values at the extremes of the Series/DataFrame:"
      ]
    },
    {
      "cell_type": "code",
      "execution_count": null,
      "metadata": {
        "id": "MMdNgZruoImp",
        "outputId": "2457189c-a20d-4633-e256-ebcc4e43286f"
      },
      "outputs": [
        {
          "data": {
            "text/plain": [
              "0    NaN\n",
              "1    3.0\n",
              "2    3.0\n",
              "3    9.0\n",
              "dtype: float64"
            ]
          },
          "execution_count": 44,
          "metadata": {},
          "output_type": "execute_result"
        }
      ],
      "source": [
        "pd.Series([np.nan, 3, np.nan, 9]).fillna(method='ffill')"
      ]
    },
    {
      "cell_type": "code",
      "execution_count": null,
      "metadata": {
        "id": "anbPFD1_oImp",
        "outputId": "362e07f2-3d64-4b04-e474-fe60d8d7c290"
      },
      "outputs": [
        {
          "data": {
            "text/plain": [
              "0    1.0\n",
              "1    3.0\n",
              "2    3.0\n",
              "3    NaN\n",
              "4    NaN\n",
              "dtype: float64"
            ]
          },
          "execution_count": 45,
          "metadata": {},
          "output_type": "execute_result"
        }
      ],
      "source": [
        "pd.Series([1, np.nan, 3, np.nan, np.nan]).fillna(method='bfill')"
      ]
    },
    {
      "cell_type": "markdown",
      "metadata": {
        "id": "KrC9EoGEoImp"
      },
      "source": [
        "### Filling null values on DataFrames\n",
        "\n",
        "The `fillna` method also works on `DataFrame`s, and it works similarly. The main differences are that you can specify the `axis` (as usual, rows or columns) to use to fill the values (specially for methods) and that you have more control on the values passed:"
      ]
    },
    {
      "cell_type": "code",
      "execution_count": null,
      "metadata": {
        "id": "a-q9NWztoImp",
        "outputId": "dfc41fae-414e-4420-f28c-da1ee048f489"
      },
      "outputs": [
        {
          "data": {
            "text/html": [
              "<div>\n",
              "<style scoped>\n",
              "    .dataframe tbody tr th:only-of-type {\n",
              "        vertical-align: middle;\n",
              "    }\n",
              "\n",
              "    .dataframe tbody tr th {\n",
              "        vertical-align: top;\n",
              "    }\n",
              "\n",
              "    .dataframe thead th {\n",
              "        text-align: right;\n",
              "    }\n",
              "</style>\n",
              "<table border=\"1\" class=\"dataframe\">\n",
              "  <thead>\n",
              "    <tr style=\"text-align: right;\">\n",
              "      <th></th>\n",
              "      <th>Column A</th>\n",
              "      <th>Column B</th>\n",
              "      <th>Column C</th>\n",
              "      <th>Column D</th>\n",
              "    </tr>\n",
              "  </thead>\n",
              "  <tbody>\n",
              "    <tr>\n",
              "      <th>0</th>\n",
              "      <td>1.0</td>\n",
              "      <td>2.0</td>\n",
              "      <td>NaN</td>\n",
              "      <td>5</td>\n",
              "    </tr>\n",
              "    <tr>\n",
              "      <th>1</th>\n",
              "      <td>NaN</td>\n",
              "      <td>8.0</td>\n",
              "      <td>9.0</td>\n",
              "      <td>8</td>\n",
              "    </tr>\n",
              "    <tr>\n",
              "      <th>2</th>\n",
              "      <td>30.0</td>\n",
              "      <td>31.0</td>\n",
              "      <td>32.0</td>\n",
              "      <td>34</td>\n",
              "    </tr>\n",
              "    <tr>\n",
              "      <th>3</th>\n",
              "      <td>NaN</td>\n",
              "      <td>NaN</td>\n",
              "      <td>100.0</td>\n",
              "      <td>110</td>\n",
              "    </tr>\n",
              "  </tbody>\n",
              "</table>\n",
              "</div>"
            ],
            "text/plain": [
              "   Column A  Column B  Column C  Column D\n",
              "0       1.0       2.0       NaN         5\n",
              "1       NaN       8.0       9.0         8\n",
              "2      30.0      31.0      32.0        34\n",
              "3       NaN       NaN     100.0       110"
            ]
          },
          "execution_count": 46,
          "metadata": {},
          "output_type": "execute_result"
        }
      ],
      "source": [
        "df"
      ]
    },
    {
      "cell_type": "code",
      "execution_count": null,
      "metadata": {
        "scrolled": true,
        "id": "70xYjhW1oImp",
        "outputId": "c1b07363-4a2e-4f54-8a25-f8f3d93034e0"
      },
      "outputs": [
        {
          "data": {
            "text/html": [
              "<div>\n",
              "<style scoped>\n",
              "    .dataframe tbody tr th:only-of-type {\n",
              "        vertical-align: middle;\n",
              "    }\n",
              "\n",
              "    .dataframe tbody tr th {\n",
              "        vertical-align: top;\n",
              "    }\n",
              "\n",
              "    .dataframe thead th {\n",
              "        text-align: right;\n",
              "    }\n",
              "</style>\n",
              "<table border=\"1\" class=\"dataframe\">\n",
              "  <thead>\n",
              "    <tr style=\"text-align: right;\">\n",
              "      <th></th>\n",
              "      <th>Column A</th>\n",
              "      <th>Column B</th>\n",
              "      <th>Column C</th>\n",
              "      <th>Column D</th>\n",
              "    </tr>\n",
              "  </thead>\n",
              "  <tbody>\n",
              "    <tr>\n",
              "      <th>0</th>\n",
              "      <td>1.0</td>\n",
              "      <td>2.0</td>\n",
              "      <td>47.0</td>\n",
              "      <td>5</td>\n",
              "    </tr>\n",
              "    <tr>\n",
              "      <th>1</th>\n",
              "      <td>0.0</td>\n",
              "      <td>8.0</td>\n",
              "      <td>9.0</td>\n",
              "      <td>8</td>\n",
              "    </tr>\n",
              "    <tr>\n",
              "      <th>2</th>\n",
              "      <td>30.0</td>\n",
              "      <td>31.0</td>\n",
              "      <td>32.0</td>\n",
              "      <td>34</td>\n",
              "    </tr>\n",
              "    <tr>\n",
              "      <th>3</th>\n",
              "      <td>0.0</td>\n",
              "      <td>99.0</td>\n",
              "      <td>100.0</td>\n",
              "      <td>110</td>\n",
              "    </tr>\n",
              "  </tbody>\n",
              "</table>\n",
              "</div>"
            ],
            "text/plain": [
              "   Column A  Column B  Column C  Column D\n",
              "0       1.0       2.0      47.0         5\n",
              "1       0.0       8.0       9.0         8\n",
              "2      30.0      31.0      32.0        34\n",
              "3       0.0      99.0     100.0       110"
            ]
          },
          "execution_count": 47,
          "metadata": {},
          "output_type": "execute_result"
        }
      ],
      "source": [
        "df.fillna({'Column A': 0, 'Column B': 99, 'Column C': df['Column C'].mean()})"
      ]
    },
    {
      "cell_type": "code",
      "execution_count": null,
      "metadata": {
        "scrolled": true,
        "id": "ccIRBlSQoImq",
        "outputId": "084f9141-678f-4b11-d3d8-4279dbe997f5"
      },
      "outputs": [
        {
          "data": {
            "text/html": [
              "<div>\n",
              "<style scoped>\n",
              "    .dataframe tbody tr th:only-of-type {\n",
              "        vertical-align: middle;\n",
              "    }\n",
              "\n",
              "    .dataframe tbody tr th {\n",
              "        vertical-align: top;\n",
              "    }\n",
              "\n",
              "    .dataframe thead th {\n",
              "        text-align: right;\n",
              "    }\n",
              "</style>\n",
              "<table border=\"1\" class=\"dataframe\">\n",
              "  <thead>\n",
              "    <tr style=\"text-align: right;\">\n",
              "      <th></th>\n",
              "      <th>Column A</th>\n",
              "      <th>Column B</th>\n",
              "      <th>Column C</th>\n",
              "      <th>Column D</th>\n",
              "    </tr>\n",
              "  </thead>\n",
              "  <tbody>\n",
              "    <tr>\n",
              "      <th>0</th>\n",
              "      <td>1.0</td>\n",
              "      <td>2.0</td>\n",
              "      <td>NaN</td>\n",
              "      <td>5</td>\n",
              "    </tr>\n",
              "    <tr>\n",
              "      <th>1</th>\n",
              "      <td>1.0</td>\n",
              "      <td>8.0</td>\n",
              "      <td>9.0</td>\n",
              "      <td>8</td>\n",
              "    </tr>\n",
              "    <tr>\n",
              "      <th>2</th>\n",
              "      <td>30.0</td>\n",
              "      <td>31.0</td>\n",
              "      <td>32.0</td>\n",
              "      <td>34</td>\n",
              "    </tr>\n",
              "    <tr>\n",
              "      <th>3</th>\n",
              "      <td>30.0</td>\n",
              "      <td>31.0</td>\n",
              "      <td>100.0</td>\n",
              "      <td>110</td>\n",
              "    </tr>\n",
              "  </tbody>\n",
              "</table>\n",
              "</div>"
            ],
            "text/plain": [
              "   Column A  Column B  Column C  Column D\n",
              "0       1.0       2.0       NaN         5\n",
              "1       1.0       8.0       9.0         8\n",
              "2      30.0      31.0      32.0        34\n",
              "3      30.0      31.0     100.0       110"
            ]
          },
          "execution_count": 48,
          "metadata": {},
          "output_type": "execute_result"
        }
      ],
      "source": [
        "df.fillna(method='ffill', axis=0)"
      ]
    },
    {
      "cell_type": "code",
      "execution_count": null,
      "metadata": {
        "scrolled": true,
        "id": "2iBLUvNUoImq",
        "outputId": "d89ed2fa-1877-4338-b49a-1d99bb5851db"
      },
      "outputs": [
        {
          "data": {
            "text/html": [
              "<div>\n",
              "<style scoped>\n",
              "    .dataframe tbody tr th:only-of-type {\n",
              "        vertical-align: middle;\n",
              "    }\n",
              "\n",
              "    .dataframe tbody tr th {\n",
              "        vertical-align: top;\n",
              "    }\n",
              "\n",
              "    .dataframe thead th {\n",
              "        text-align: right;\n",
              "    }\n",
              "</style>\n",
              "<table border=\"1\" class=\"dataframe\">\n",
              "  <thead>\n",
              "    <tr style=\"text-align: right;\">\n",
              "      <th></th>\n",
              "      <th>Column A</th>\n",
              "      <th>Column B</th>\n",
              "      <th>Column C</th>\n",
              "      <th>Column D</th>\n",
              "    </tr>\n",
              "  </thead>\n",
              "  <tbody>\n",
              "    <tr>\n",
              "      <th>0</th>\n",
              "      <td>1.0</td>\n",
              "      <td>2.0</td>\n",
              "      <td>2.0</td>\n",
              "      <td>5.0</td>\n",
              "    </tr>\n",
              "    <tr>\n",
              "      <th>1</th>\n",
              "      <td>NaN</td>\n",
              "      <td>8.0</td>\n",
              "      <td>9.0</td>\n",
              "      <td>8.0</td>\n",
              "    </tr>\n",
              "    <tr>\n",
              "      <th>2</th>\n",
              "      <td>30.0</td>\n",
              "      <td>31.0</td>\n",
              "      <td>32.0</td>\n",
              "      <td>34.0</td>\n",
              "    </tr>\n",
              "    <tr>\n",
              "      <th>3</th>\n",
              "      <td>NaN</td>\n",
              "      <td>NaN</td>\n",
              "      <td>100.0</td>\n",
              "      <td>110.0</td>\n",
              "    </tr>\n",
              "  </tbody>\n",
              "</table>\n",
              "</div>"
            ],
            "text/plain": [
              "   Column A  Column B  Column C  Column D\n",
              "0       1.0       2.0       2.0       5.0\n",
              "1       NaN       8.0       9.0       8.0\n",
              "2      30.0      31.0      32.0      34.0\n",
              "3       NaN       NaN     100.0     110.0"
            ]
          },
          "execution_count": 49,
          "metadata": {},
          "output_type": "execute_result"
        }
      ],
      "source": [
        "df.fillna(method='ffill', axis=1)"
      ]
    },
    {
      "cell_type": "markdown",
      "metadata": {
        "id": "cSBHvEYsoImq"
      },
      "source": [
        "![separator1](https://i.imgur.com/ZUWYTii.png)\n",
        "\n",
        "### Checking if there are NAs\n",
        "\n",
        "The question is: Does this `Series` or `DataFrame` contain any missing value? The answer should be yes or no: `True` or `False`. How can you verify it?\n",
        "\n",
        "**Example 1: Checking the length**\n",
        "\n",
        "If there are missing values, `s.dropna()` will have less elements than `s`:"
      ]
    },
    {
      "cell_type": "code",
      "execution_count": 8,
      "metadata": {
        "id": "tFBoAiK7oImq",
        "outputId": "86010074-f659-49f1-cfd1-1a33cfba39af",
        "colab": {
          "base_uri": "https://localhost:8080/"
        }
      },
      "outputs": [
        {
          "output_type": "execute_result",
          "data": {
            "text/plain": [
              "4"
            ]
          },
          "metadata": {},
          "execution_count": 8
        }
      ],
      "source": [
        "s.dropna().count()"
      ]
    },
    {
      "cell_type": "code",
      "execution_count": 9,
      "metadata": {
        "id": "-oRkJQjVoImq",
        "outputId": "d960363a-b7f0-4832-b69d-099b921e17b2",
        "colab": {
          "base_uri": "https://localhost:8080/"
        }
      },
      "outputs": [
        {
          "output_type": "execute_result",
          "data": {
            "text/plain": [
              "True"
            ]
          },
          "metadata": {},
          "execution_count": 9
        }
      ],
      "source": [
        "missing_values = len(s.dropna()) != len(s)\n",
        "missing_values"
      ]
    },
    {
      "cell_type": "markdown",
      "metadata": {
        "id": "oNmUpUmmoImq"
      },
      "source": [
        "There's also a `count` method, that excludes `nan`s from its result:"
      ]
    },
    {
      "cell_type": "code",
      "execution_count": 10,
      "metadata": {
        "id": "RG8q0p9ToImq",
        "outputId": "5a53e893-5271-401e-e81f-1c1c7a565318",
        "colab": {
          "base_uri": "https://localhost:8080/"
        }
      },
      "outputs": [
        {
          "output_type": "execute_result",
          "data": {
            "text/plain": [
              "6"
            ]
          },
          "metadata": {},
          "execution_count": 10
        }
      ],
      "source": [
        "len(s)"
      ]
    },
    {
      "cell_type": "code",
      "execution_count": 11,
      "metadata": {
        "id": "KNIEM4TYoImr",
        "outputId": "89adb061-0855-450d-a69b-dec00dd88cc6",
        "colab": {
          "base_uri": "https://localhost:8080/"
        }
      },
      "outputs": [
        {
          "output_type": "execute_result",
          "data": {
            "text/plain": [
              "4"
            ]
          },
          "metadata": {},
          "execution_count": 11
        }
      ],
      "source": [
        "s.count()"
      ]
    },
    {
      "cell_type": "markdown",
      "metadata": {
        "id": "WRBm6MT7oImr"
      },
      "source": [
        "So we could just do:"
      ]
    },
    {
      "cell_type": "code",
      "execution_count": 12,
      "metadata": {
        "id": "ocLBsyq7oImr",
        "outputId": "00cf3076-b68c-44fe-e676-c913b2088775",
        "colab": {
          "base_uri": "https://localhost:8080/"
        }
      },
      "outputs": [
        {
          "output_type": "execute_result",
          "data": {
            "text/plain": [
              "True"
            ]
          },
          "metadata": {},
          "execution_count": 12
        }
      ],
      "source": [
        "missing_values = s.count() != len(s)\n",
        "missing_values"
      ]
    },
    {
      "cell_type": "markdown",
      "metadata": {
        "id": "P2_atYitoImr"
      },
      "source": [
        "**More Pythonic solution `any`**\n",
        "\n",
        "The methods `any` and `all` check if either there's `any` True value in a Series or `all` the values are `True`. They work in the same way as in Python:"
      ]
    },
    {
      "cell_type": "code",
      "execution_count": null,
      "metadata": {
        "id": "TbdXUMiLoImr",
        "outputId": "3df8c612-e706-4f8f-aa67-73b636ea3ed9"
      },
      "outputs": [
        {
          "data": {
            "text/plain": [
              "True"
            ]
          },
          "execution_count": 50,
          "metadata": {},
          "output_type": "execute_result"
        }
      ],
      "source": [
        "pd.Series([True, False, False]).any()"
      ]
    },
    {
      "cell_type": "code",
      "execution_count": null,
      "metadata": {
        "id": "lTMXqUpMoIms",
        "outputId": "8f8f218b-6610-490e-8375-0a0f78d09d3f"
      },
      "outputs": [
        {
          "data": {
            "text/plain": [
              "False"
            ]
          },
          "execution_count": 51,
          "metadata": {},
          "output_type": "execute_result"
        }
      ],
      "source": [
        "pd.Series([True, False, False]).all()"
      ]
    },
    {
      "cell_type": "code",
      "execution_count": null,
      "metadata": {
        "id": "fRwO4C2VoIms",
        "outputId": "77fee141-0731-46c0-e788-75692d6e6bb5"
      },
      "outputs": [
        {
          "data": {
            "text/plain": [
              "True"
            ]
          },
          "execution_count": 52,
          "metadata": {},
          "output_type": "execute_result"
        }
      ],
      "source": [
        "pd.Series([True, True, True]).all()"
      ]
    },
    {
      "cell_type": "markdown",
      "metadata": {
        "id": "dK-cit22oIms"
      },
      "source": [
        "The `isnull()` method returned a Boolean `Series` with `True` values wherever there was a `nan`:"
      ]
    },
    {
      "cell_type": "code",
      "execution_count": 5,
      "metadata": {
        "id": "iaiYkMheoIms",
        "outputId": "7b972b5a-05a1-45d4-b966-c73e3bf0ed15",
        "colab": {
          "base_uri": "https://localhost:8080/"
        }
      },
      "outputs": [
        {
          "output_type": "execute_result",
          "data": {
            "text/plain": [
              "0    False\n",
              "1    False\n",
              "2    False\n",
              "3     True\n",
              "4     True\n",
              "5    False\n",
              "dtype: bool"
            ]
          },
          "metadata": {},
          "execution_count": 5
        }
      ],
      "source": [
        "s.isnull()"
      ]
    },
    {
      "cell_type": "markdown",
      "metadata": {
        "id": "lv_dglxyoIms"
      },
      "source": [
        "So we can just use the `any` method with the boolean array returned:"
      ]
    },
    {
      "cell_type": "code",
      "execution_count": 6,
      "metadata": {
        "id": "ClDmzvv-oIms",
        "outputId": "81bdf879-c820-4ab3-ae7f-5601c5d617e8",
        "colab": {
          "base_uri": "https://localhost:8080/"
        }
      },
      "outputs": [
        {
          "output_type": "execute_result",
          "data": {
            "text/plain": [
              "True"
            ]
          },
          "metadata": {},
          "execution_count": 6
        }
      ],
      "source": [
        "pd.Series([1, np.nan]).isnull().any()"
      ]
    },
    {
      "cell_type": "code",
      "execution_count": 7,
      "metadata": {
        "id": "7g-NgmHBoImt",
        "outputId": "2c995169-716d-45f5-c791-ebd88a7835b4",
        "colab": {
          "base_uri": "https://localhost:8080/"
        }
      },
      "outputs": [
        {
          "output_type": "execute_result",
          "data": {
            "text/plain": [
              "False"
            ]
          },
          "metadata": {},
          "execution_count": 7
        }
      ],
      "source": [
        "pd.Series([1, 2]).isnull().any()"
      ]
    },
    {
      "cell_type": "code",
      "execution_count": 8,
      "metadata": {
        "scrolled": true,
        "id": "D9W4ovG6oImt",
        "outputId": "e56fe186-0d31-4bda-d3fc-8718c72db6bc",
        "colab": {
          "base_uri": "https://localhost:8080/"
        }
      },
      "outputs": [
        {
          "output_type": "execute_result",
          "data": {
            "text/plain": [
              "True"
            ]
          },
          "metadata": {},
          "execution_count": 8
        }
      ],
      "source": [
        "s.isnull().any()"
      ]
    },
    {
      "cell_type": "markdown",
      "metadata": {
        "id": "qx9yQGdpoImt"
      },
      "source": [
        "A more strict version would check only the `values` of the Series:"
      ]
    },
    {
      "cell_type": "code",
      "execution_count": 9,
      "metadata": {
        "scrolled": true,
        "id": "Fs91ugwaoImt",
        "outputId": "62fa971e-9afa-45b2-e3b5-68897c48d982",
        "colab": {
          "base_uri": "https://localhost:8080/"
        }
      },
      "outputs": [
        {
          "output_type": "execute_result",
          "data": {
            "text/plain": [
              "array([False, False, False,  True,  True, False])"
            ]
          },
          "metadata": {},
          "execution_count": 9
        }
      ],
      "source": [
        "s.isnull().values"
      ]
    },
    {
      "cell_type": "code",
      "execution_count": 10,
      "metadata": {
        "scrolled": true,
        "id": "M53FOtGPoImt",
        "outputId": "3c88f382-53cd-4948-a991-3fb493a82b1b",
        "colab": {
          "base_uri": "https://localhost:8080/"
        }
      },
      "outputs": [
        {
          "output_type": "execute_result",
          "data": {
            "text/plain": [
              "True"
            ]
          },
          "metadata": {},
          "execution_count": 10
        }
      ],
      "source": [
        "s.isnull().values.any()"
      ]
    },
    {
      "cell_type": "markdown",
      "metadata": {
        "id": "OYSNWzIXoImt"
      },
      "source": [
        "![separator2](https://i.imgur.com/4gX5WFr.png)"
      ]
    }
  ],
  "metadata": {
    "kernelspec": {
      "display_name": "Python 3",
      "language": "python",
      "name": "python3"
    },
    "language_info": {
      "codemirror_mode": {
        "name": "ipython",
        "version": 3
      },
      "file_extension": ".py",
      "mimetype": "text/x-python",
      "name": "python",
      "nbconvert_exporter": "python",
      "pygments_lexer": "ipython3",
      "version": "3.8.1"
    },
    "colab": {
      "name": "2 - Handling Missing Data with Pandas.ipynb",
      "provenance": []
    }
  },
  "nbformat": 4,
  "nbformat_minor": 0
}
